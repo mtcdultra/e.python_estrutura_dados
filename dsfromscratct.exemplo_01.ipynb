{
 "cells": [
  {
   "cell_type": "code",
   "execution_count": 3,
   "id": "b9122b78",
   "metadata": {},
   "outputs": [],
   "source": [
    "users = [\n",
    "    { \"id\": 0, \"name\": \"Hero\" },\n",
    "    { \"id\": 1, \"name\": \"Dunn\" },\n",
    "    { \"id\": 2, \"name\": \"Sue\" },\n",
    "    { \"id\": 3, \"name\": \"Chi\" },\n",
    "    { \"id\": 4, \"name\": \"Thor\" },\n",
    "    { \"id\": 5, \"name\": \"Clive\" },\n",
    "    { \"id\": 6, \"name\": \"Hicks\" },\n",
    "    { \"id\": 7, \"name\": \"Devin\" },\n",
    "    { \"id\": 8, \"name\": \"Kate\" },\n",
    "    { \"id\": 9, \"name\": \"Klein\" }\n",
    "]"
   ]
  },
  {
   "cell_type": "code",
   "execution_count": 4,
   "id": "c3b7d331",
   "metadata": {},
   "outputs": [],
   "source": [
    "friendship_pairs = [(0, 1), (0, 2), (1, 2), (1, 3), (2, 3), (3, 4),\n",
    "                    (4, 5), (5, 6), (5, 7), (6, 8), (7, 8), (8, 9)]"
   ]
  },
  {
   "cell_type": "code",
   "execution_count": 5,
   "id": "75bc205c",
   "metadata": {},
   "outputs": [],
   "source": [
    "# Initialize the dict with an empty list for each user id:\n",
    "friendships = {user[\"id\"]: [] for user in users}\n",
    "\n",
    "# And loop over the friendship pairs to populate it:\n",
    "for i, j in friendship_pairs:\n",
    "    friendships[i].append(j)  # Add j as a friend of user i\n",
    "    friendships[j].append(i)  # Add i as a friend of user j"
   ]
  },
  {
   "cell_type": "code",
   "execution_count": 6,
   "id": "5017fbaa",
   "metadata": {},
   "outputs": [],
   "source": [
    "def number_of_friends(user):\n",
    "    \"\"\"How many friends does _user_ have?\"\"\"\n",
    "    user_id = user[\"id\"]\n",
    "    friend_ids = friendships[user_id]\n",
    "    return len(friend_ids)\n",
    "\n",
    "total_connections = sum(number_of_friends(user)\n",
    "                        for user in users)        # 24"
   ]
  },
  {
   "cell_type": "code",
   "execution_count": 7,
   "id": "5c94a955",
   "metadata": {},
   "outputs": [],
   "source": [
    "num_users = len(users)                            # length of the users list\n",
    "avg_connections = total_connections / num_users   # 24 / 10 == 2.4"
   ]
  },
  {
   "cell_type": "code",
   "execution_count": 8,
   "id": "79bab7b3",
   "metadata": {},
   "outputs": [],
   "source": [
    "# Create a list (user_id, number_of_friends).\n",
    "num_friends_by_id = [(user[\"id\"], number_of_friends(user))\n",
    "                     for user in users]\n",
    "\n",
    "num_friends_by_id.sort(                                # Sort the list\n",
    "       key=lambda id_and_friends: id_and_friends[1],   # by num_friends\n",
    "       reverse=True)                                   # largest to smallest\n",
    "\n",
    "# Each pair is (user_id, num_friends):\n",
    "# [(1, 3), (2, 3), (3, 3), (5, 3), (8, 3),\n",
    "#  (0, 2), (4, 2), (6, 2), (7, 2), (9, 1)]"
   ]
  },
  {
   "cell_type": "code",
   "execution_count": 9,
   "id": "7358f162",
   "metadata": {},
   "outputs": [],
   "source": [
    "def foaf_ids_bad(user):\n",
    "    \"\"\"foaf is short for \"friend of a friend\" \"\"\"\n",
    "    return [foaf_id\n",
    "            for friend_id in friendships[user[\"id\"]]\n",
    "            for foaf_id in friendships[friend_id]]"
   ]
  },
  {
   "cell_type": "code",
   "execution_count": 10,
   "id": "1e69591d",
   "metadata": {},
   "outputs": [
    {
     "name": "stdout",
     "output_type": "stream",
     "text": [
      "[1, 2]\n",
      "[0, 2, 3]\n",
      "[0, 1, 3]\n"
     ]
    }
   ],
   "source": [
    "print(friendships[0])  # [1, 2]\n",
    "print(friendships[1])  # [0, 2, 3]\n",
    "print(friendships[2])  # [0, 1, 3]"
   ]
  },
  {
   "cell_type": "code",
   "execution_count": 12,
   "id": "ae0c2342",
   "metadata": {},
   "outputs": [
    {
     "name": "stdout",
     "output_type": "stream",
     "text": [
      "Counter({0: 2, 5: 1})\n"
     ]
    }
   ],
   "source": [
    "from collections import Counter                   # not loaded by default\n",
    "\n",
    "def friends_of_friends(user):\n",
    "    user_id = user[\"id\"]\n",
    "    return Counter(\n",
    "        foaf_id\n",
    "        for friend_id in friendships[user_id]     # For each of my friends,\n",
    "        for foaf_id in friendships[friend_id]     # find their friends\n",
    "        if foaf_id != user_id                     # who aren't me\n",
    "        and foaf_id not in friendships[user_id]   # and aren't my friends.\n",
    "    )\n",
    "\n",
    "\n",
    "print(friends_of_friends(users[3]))               # Counter({0: 2, 5: 1})"
   ]
  },
  {
   "cell_type": "code",
   "execution_count": 13,
   "id": "709b3f69",
   "metadata": {},
   "outputs": [],
   "source": [
    "interests = [\n",
    "    (0, \"Hadoop\"), (0, \"Big Data\"), (0, \"HBase\"), (0, \"Java\"),\n",
    "    (0, \"Spark\"), (0, \"Storm\"), (0, \"Cassandra\"),\n",
    "    (1, \"NoSQL\"), (1, \"MongoDB\"), (1, \"Cassandra\"), (1, \"HBase\"),\n",
    "    (1, \"Postgres\"), (2, \"Python\"), (2, \"scikit-learn\"), (2, \"scipy\"),\n",
    "    (2, \"numpy\"), (2, \"statsmodels\"), (2, \"pandas\"), (3, \"R\"), (3, \"Python\"),\n",
    "    (3, \"statistics\"), (3, \"regression\"), (3, \"probability\"),\n",
    "    (4, \"machine learning\"), (4, \"regression\"), (4, \"decision trees\"),\n",
    "    (4, \"libsvm\"), (5, \"Python\"), (5, \"R\"), (5, \"Java\"), (5, \"C++\"),\n",
    "    (5, \"Haskell\"), (5, \"programming languages\"), (6, \"statistics\"),\n",
    "    (6, \"probability\"), (6, \"mathematics\"), (6, \"theory\"),\n",
    "    (7, \"machine learning\"), (7, \"scikit-learn\"), (7, \"Mahout\"),\n",
    "    (7, \"neural networks\"), (8, \"neural networks\"), (8, \"deep learning\"),\n",
    "    (8, \"Big Data\"), (8, \"artificial intelligence\"), (9, \"Hadoop\"),\n",
    "    (9, \"Java\"), (9, \"MapReduce\"), (9, \"Big Data\")\n",
    "]"
   ]
  },
  {
   "cell_type": "code",
   "execution_count": 14,
   "id": "ce3a8f12",
   "metadata": {},
   "outputs": [],
   "source": [
    "def data_scientists_who_like(target_interest):\n",
    "    \"\"\"Find the ids of all users who like the target interest.\"\"\"\n",
    "    return [user_id\n",
    "            for user_id, user_interest in interests\n",
    "            if user_interest == target_interest]"
   ]
  },
  {
   "cell_type": "code",
   "execution_count": 15,
   "id": "37284cf0",
   "metadata": {},
   "outputs": [],
   "source": [
    "from collections import defaultdict\n",
    "\n",
    "# Keys are interests, values are lists of user_ids with that interest\n",
    "user_ids_by_interest = defaultdict(list)\n",
    "\n",
    "for user_id, interest in interests:\n",
    "    user_ids_by_interest[interest].append(user_id)"
   ]
  },
  {
   "cell_type": "code",
   "execution_count": 16,
   "id": "6f9c1aa8",
   "metadata": {},
   "outputs": [],
   "source": [
    "# Keys are user_ids, values are lists of interests for that user_id.\n",
    "interests_by_user_id = defaultdict(list)\n",
    "\n",
    "for user_id, interest in interests:\n",
    "    interests_by_user_id[user_id].append(interest)"
   ]
  },
  {
   "cell_type": "code",
   "execution_count": 17,
   "id": "1f064d27",
   "metadata": {},
   "outputs": [],
   "source": [
    "def most_common_interests_with(user):\n",
    "    return Counter(\n",
    "        interested_user_id\n",
    "        for interest in interests_by_user_id[user[\"id\"]]\n",
    "        for interested_user_id in user_ids_by_interest[interest]\n",
    "        if interested_user_id != user[\"id\"]\n",
    "    )"
   ]
  },
  {
   "cell_type": "code",
   "execution_count": 19,
   "id": "7ea088e5",
   "metadata": {},
   "outputs": [
    {
     "name": "stdout",
     "output_type": "stream",
     "text": [
      "Counter({9: 3, 1: 2, 8: 1, 5: 1})\n"
     ]
    }
   ],
   "source": [
    "print(most_common_interests_with(users[0]))"
   ]
  },
  {
   "cell_type": "code",
   "execution_count": 20,
   "id": "c05ddebe",
   "metadata": {},
   "outputs": [],
   "source": [
    "salaries_and_tenures = [(83000, 8.7), (88000, 8.1),\n",
    "                        (48000, 0.7), (76000, 6),\n",
    "                        (69000, 6.5), (76000, 7.5),\n",
    "                        (60000, 2.5), (83000, 10),\n",
    "                        (48000, 1.9), (63000, 4.2)]"
   ]
  },
  {
   "cell_type": "code",
   "execution_count": 31,
   "id": "3d21d09b",
   "metadata": {},
   "outputs": [],
   "source": [
    "# Keys are years, values are lists of the salaries for each tenure.\n",
    "salary_by_tenure = defaultdict(list)\n",
    "\n",
    "for salary, tenure in salaries_and_tenures:\n",
    "    salary_by_tenure[tenure].append(salary)\n",
    "\n",
    "# Keys are years, each value is average salary for that tenure.\n",
    "average_salary_by_bucket = {\n",
    "    tenure: sum(salaries) / len(salaries)\n",
    "    for tenure, salaries in salary_by_tenure.items()\n",
    "}"
   ]
  },
  {
   "cell_type": "code",
   "execution_count": 33,
   "id": "2dd33537",
   "metadata": {},
   "outputs": [
    {
     "name": "stdout",
     "output_type": "stream",
     "text": [
      "{'more than five': 79166.66666666667, 'less than two': 48000.0, 'between two and five': 61500.0}\n"
     ]
    }
   ],
   "source": [
    "print(average_salary_by_bucket)"
   ]
  },
  {
   "cell_type": "code",
   "execution_count": 22,
   "id": "afd0e5a2",
   "metadata": {},
   "outputs": [],
   "source": [
    "def tenure_bucket(tenure):\n",
    "    if tenure < 2:\n",
    "        return \"less than two\"\n",
    "    elif tenure < 5:\n",
    "        return \"between two and five\"\n",
    "    else:\n",
    "        return \"more than five\""
   ]
  },
  {
   "cell_type": "code",
   "execution_count": 26,
   "id": "ac7bed62",
   "metadata": {},
   "outputs": [
    {
     "data": {
      "text/plain": [
       "'less than two'"
      ]
     },
     "execution_count": 26,
     "metadata": {},
     "output_type": "execute_result"
    }
   ],
   "source": [
    "tenure_bucket(1)"
   ]
  },
  {
   "cell_type": "code",
   "execution_count": 27,
   "id": "dd90e31e",
   "metadata": {},
   "outputs": [],
   "source": [
    "# Keys are tenure buckets, values are lists of salaries for that bucket.\n",
    "salary_by_tenure_bucket = defaultdict(list)\n",
    "\n",
    "for salary, tenure in salaries_and_tenures:\n",
    "    bucket = tenure_bucket(tenure)\n",
    "    salary_by_tenure_bucket[bucket].append(salary)"
   ]
  },
  {
   "cell_type": "code",
   "execution_count": 28,
   "id": "f18da244",
   "metadata": {},
   "outputs": [],
   "source": [
    "# Keys are tenure buckets, values are average salary for that bucket.\n",
    "average_salary_by_bucket = {\n",
    "  tenure_bucket: sum(salaries) / len(salaries)\n",
    "  for tenure_bucket, salaries in salary_by_tenure_bucket.items()\n",
    "}"
   ]
  },
  {
   "cell_type": "code",
   "execution_count": 30,
   "id": "45a1d2fc",
   "metadata": {},
   "outputs": [
    {
     "name": "stdout",
     "output_type": "stream",
     "text": [
      "{'more than five': 79166.66666666667, 'less than two': 48000.0, 'between two and five': 61500.0}\n"
     ]
    }
   ],
   "source": [
    "print(average_salary_by_bucket)"
   ]
  },
  {
   "cell_type": "code",
   "execution_count": 34,
   "id": "08624412",
   "metadata": {},
   "outputs": [],
   "source": [
    "def predict_paid_or_unpaid(years_experience):\n",
    "  if years_experience < 3.0:\n",
    "    return \"paid\"\n",
    "  elif years_experience < 8.5:\n",
    "    return \"unpaid\"\n",
    "  else:\n",
    "    return \"paid\""
   ]
  },
  {
   "cell_type": "code",
   "execution_count": 37,
   "id": "70ca8783",
   "metadata": {},
   "outputs": [
    {
     "name": "stdout",
     "output_type": "stream",
     "text": [
      "paid\n"
     ]
    }
   ],
   "source": [
    "print(predict_paid_or_unpaid(1))"
   ]
  },
  {
   "cell_type": "code",
   "execution_count": 40,
   "id": "3230b8c1",
   "metadata": {},
   "outputs": [
    {
     "name": "stdout",
     "output_type": "stream",
     "text": [
      "big 3\n",
      "data 3\n",
      "java 3\n",
      "python 3\n",
      "learning 3\n",
      "hadoop 2\n",
      "hbase 2\n",
      "cassandra 2\n",
      "scikit-learn 2\n",
      "r 2\n",
      "statistics 2\n",
      "regression 2\n",
      "probability 2\n",
      "machine 2\n",
      "neural 2\n",
      "networks 2\n"
     ]
    }
   ],
   "source": [
    "words_and_counts = Counter(word\n",
    "                           for user, interest in interests\n",
    "                           for word in interest.lower().split())\n",
    "\n",
    "for word, count in words_and_counts.most_common():\n",
    "    if count > 1:\n",
    "        print(word, count)"
   ]
  },
  {
   "cell_type": "code",
   "execution_count": 39,
   "id": "3fe5c46f",
   "metadata": {},
   "outputs": [
    {
     "data": {
      "text/plain": [
       "Counter({'hadoop': 2,\n",
       "         'big': 3,\n",
       "         'data': 3,\n",
       "         'hbase': 2,\n",
       "         'java': 3,\n",
       "         'spark': 1,\n",
       "         'storm': 1,\n",
       "         'cassandra': 2,\n",
       "         'nosql': 1,\n",
       "         'mongodb': 1,\n",
       "         'postgres': 1,\n",
       "         'python': 3,\n",
       "         'scikit-learn': 2,\n",
       "         'scipy': 1,\n",
       "         'numpy': 1,\n",
       "         'statsmodels': 1,\n",
       "         'pandas': 1,\n",
       "         'r': 2,\n",
       "         'statistics': 2,\n",
       "         'regression': 2,\n",
       "         'probability': 2,\n",
       "         'machine': 2,\n",
       "         'learning': 3,\n",
       "         'decision': 1,\n",
       "         'trees': 1,\n",
       "         'libsvm': 1,\n",
       "         'c++': 1,\n",
       "         'haskell': 1,\n",
       "         'programming': 1,\n",
       "         'languages': 1,\n",
       "         'mathematics': 1,\n",
       "         'theory': 1,\n",
       "         'mahout': 1,\n",
       "         'neural': 2,\n",
       "         'networks': 2,\n",
       "         'deep': 1,\n",
       "         'artificial': 1,\n",
       "         'intelligence': 1,\n",
       "         'mapreduce': 1})"
      ]
     },
     "execution_count": 39,
     "metadata": {},
     "output_type": "execute_result"
    }
   ],
   "source": []
  },
  {
   "cell_type": "code",
   "execution_count": null,
   "id": "77087273",
   "metadata": {},
   "outputs": [],
   "source": []
  }
 ],
 "metadata": {
  "kernelspec": {
   "display_name": "Python 3",
   "language": "python",
   "name": "python3"
  },
  "language_info": {
   "codemirror_mode": {
    "name": "ipython",
    "version": 3
   },
   "file_extension": ".py",
   "mimetype": "text/x-python",
   "name": "python",
   "nbconvert_exporter": "python",
   "pygments_lexer": "ipython3",
   "version": "3.8.8"
  }
 },
 "nbformat": 4,
 "nbformat_minor": 5
}
