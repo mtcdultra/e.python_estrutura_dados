{
 "cells": [
  {
   "cell_type": "code",
   "execution_count": 5,
   "source": [
    "for i in [1, 2, 3, 4, 5]:\n",
    "    print(f\"Primeira linhja de i: {i}\")       # Primeira linha para o FOR i\n",
    "    for j in [1, 2, 3, 4, 5]:\n",
    "        print(f\"Primeira linhja de j: {j}\")   # Primeira linha para o FOR j\n",
    "        print(f\"Última linha do j {i + j}\")            # Última linha para o FOR j\n",
    "    print(f\"Última linha de i {i}\")                    # Última linha para o FOR i\n",
    "print(\"Fazendo repetição\")"
   ],
   "outputs": [
    {
     "output_type": "stream",
     "name": "stdout",
     "text": [
      "Primeira linhja de i: 1\n",
      "Primeira linhja de j: 1\n",
      "Última linha do j 2\n",
      "Primeira linhja de j: 2\n",
      "Última linha do j 3\n",
      "Primeira linhja de j: 3\n",
      "Última linha do j 4\n",
      "Primeira linhja de j: 4\n",
      "Última linha do j 5\n",
      "Primeira linhja de j: 5\n",
      "Última linha do j 6\n",
      "Última linha de i 1\n",
      "Primeira linhja de i: 2\n",
      "Primeira linhja de j: 1\n",
      "Última linha do j 3\n",
      "Primeira linhja de j: 2\n",
      "Última linha do j 4\n",
      "Primeira linhja de j: 3\n",
      "Última linha do j 5\n",
      "Primeira linhja de j: 4\n",
      "Última linha do j 6\n",
      "Primeira linhja de j: 5\n",
      "Última linha do j 7\n",
      "Última linha de i 2\n",
      "Primeira linhja de i: 3\n",
      "Primeira linhja de j: 1\n",
      "Última linha do j 4\n",
      "Primeira linhja de j: 2\n",
      "Última linha do j 5\n",
      "Primeira linhja de j: 3\n",
      "Última linha do j 6\n",
      "Primeira linhja de j: 4\n",
      "Última linha do j 7\n",
      "Primeira linhja de j: 5\n",
      "Última linha do j 8\n",
      "Última linha de i 3\n",
      "Primeira linhja de i: 4\n",
      "Primeira linhja de j: 1\n",
      "Última linha do j 5\n",
      "Primeira linhja de j: 2\n",
      "Última linha do j 6\n",
      "Primeira linhja de j: 3\n",
      "Última linha do j 7\n",
      "Primeira linhja de j: 4\n",
      "Última linha do j 8\n",
      "Primeira linhja de j: 5\n",
      "Última linha do j 9\n",
      "Última linha de i 4\n",
      "Primeira linhja de i: 5\n",
      "Primeira linhja de j: 1\n",
      "Última linha do j 6\n",
      "Primeira linhja de j: 2\n",
      "Última linha do j 7\n",
      "Primeira linhja de j: 3\n",
      "Última linha do j 8\n",
      "Primeira linhja de j: 4\n",
      "Última linha do j 9\n",
      "Primeira linhja de j: 5\n",
      "Última linha do j 10\n",
      "Última linha de i 5\n",
      "Fazendo repetição\n"
     ]
    }
   ],
   "metadata": {}
  },
  {
   "cell_type": "code",
   "execution_count": 2,
   "source": [
    "# Trabalhando com Módulos\n",
    "\n",
    "import re\n",
    "my_regex = re.compile(\"[0-9]+\", re.I)\n",
    "\n",
    "# OU\n",
    "\n",
    "import re as regex\n",
    "my_regex = re.compile(\"[0-9]+\", re.I)\n",
    "\n"
   ],
   "outputs": [],
   "metadata": {}
  },
  {
   "cell_type": "code",
   "execution_count": 19,
   "source": [
    "# Trabalhando com Funções\n",
    "\n",
    "def double(x):\n",
    "    \"\"\"\n",
    "    Função para multiplicar um número por 2\n",
    "    \"\"\"\n",
    "    return x * 2\n",
    "\n",
    "print(double(5))\n"
   ],
   "outputs": [
    {
     "output_type": "stream",
     "name": "stdout",
     "text": [
      "10\n"
     ]
    }
   ],
   "metadata": {}
  },
  {
   "cell_type": "code",
   "execution_count": 29,
   "source": [
    "first_name = \"Joel\"\n",
    "last_name = \"Grus\"\n",
    "\n",
    "full_name3 = f\"{first_name} {last_name}\"\n",
    "\n",
    "print (full_name3)"
   ],
   "outputs": [
    {
     "output_type": "stream",
     "name": "stdout",
     "text": [
      "Joel Grus\n"
     ]
    }
   ],
   "metadata": {}
  },
  {
   "cell_type": "code",
   "execution_count": 30,
   "source": [
    "\n",
    "try:\n",
    "    print(0 / 0)\n",
    "except ZeroDivisionError:\n",
    "    print(\"cannot divide by zero\")"
   ],
   "outputs": [
    {
     "output_type": "stream",
     "name": "stdout",
     "text": [
      "cannot divide by zero\n"
     ]
    }
   ],
   "metadata": {}
  },
  {
   "cell_type": "code",
   "execution_count": 31,
   "source": [
    "integer_list = [1, 2, 3]\n",
    "heterogeneous_list = [\"string\", 0.1, True]\n",
    "list_of_lists = [integer_list, heterogeneous_list, []]"
   ],
   "outputs": [],
   "metadata": {}
  },
  {
   "cell_type": "code",
   "execution_count": 39,
   "source": [
    "print(len(integer_list))"
   ],
   "outputs": [
    {
     "output_type": "stream",
     "name": "stdout",
     "text": [
      "3\n"
     ]
    }
   ],
   "metadata": {}
  },
  {
   "cell_type": "code",
   "execution_count": 40,
   "source": [
    "print(sum(integer_list))"
   ],
   "outputs": [
    {
     "output_type": "stream",
     "name": "stdout",
     "text": [
      "6\n"
     ]
    }
   ],
   "metadata": {}
  },
  {
   "cell_type": "code",
   "execution_count": 99,
   "source": [
    "x = [5, 7, 2, 1, 3, 8, 6, 9, 0, 10]\n",
    "\n",
    "print(\"Os elementos começam sempre com zero\")\n",
    "print(\"Mostra todos os elementos...............................\",x)\n",
    "print(\"Primeiro elemento.......................................\",x[0])\n",
    "print(\"Segundo elemento........................................\",x[1])\n",
    "print(\"Último elemento.........................................\",x[-1])\n",
    "print(\"Penúltimo elemento......................................\",x[-2])\n",
    "print(\"Os 3 primeiros elementos................................\",x[:3])\n",
    "print(\"Descartando os 3 primeiros elementos....................\",x[3:])\n",
    "print(\"Descarta o 1o e mostra os 4 seguintes...................\",x[1:5])\n",
    "print(\"Descarta o 1o e mostra até o penúltimo..................\",x[1:-1])\n",
    "print(\"Mostra os elementos de pulando de 3 em 3 casas..........\",x[::3])\n",
    "print(\"Mostra 5o elemento, depois mais 2 elementos anteriores..\",x[5:2:-1])\n",
    "print(\"Mostra 5o elemento, depois mais 2 elementos anteriores..\",x[5:2:-1])\n",
    "print(\"\")\n",
    "print(\"Saber se um elemento está contido em uma lista: \",55 in x)\n",
    "print(\"Saber se um elemento está contido em uma lista: \",5 in x)\n",
    "\n"
   ],
   "outputs": [
    {
     "output_type": "stream",
     "name": "stdout",
     "text": [
      "Os elementos começam sempre com zero\n",
      "Mostra todos os elementos............................... [5, 7, 2, 1, 3, 8, 6, 9, 0, 10]\n",
      "Primeiro elemento....................................... 5\n",
      "Segundo elemento........................................ 7\n",
      "Último elemento......................................... 10\n",
      "Penúltimo elemento...................................... 0\n",
      "Os 3 primeiros elementos................................ [5, 7, 2]\n",
      "Descartando os 3 primeiros elementos.................... [1, 3, 8, 6, 9, 0, 10]\n",
      "Descarta o 1o e mostra os 4 seguintes................... [7, 2, 1, 3]\n",
      "Descarta o 1o e mostra até o penúltimo.................. [7, 2, 1, 3, 8, 6, 9, 0]\n",
      "Mostra os elementos de pulando de 3 em 3 casas.......... [5, 1, 6, 10]\n",
      "Mostra 5o elemento, depois mais 2 elementos anteriores.. [8, 3, 1]\n",
      "Mostra 5o elemento, depois mais 2 elementos anteriores.. [8, 3, 1]\n",
      "\n",
      "Saber se um elemento está contido em uma lista:  False\n",
      "Saber se um elemento está contido em uma lista:  True\n"
     ]
    }
   ],
   "metadata": {}
  },
  {
   "cell_type": "code",
   "execution_count": 61,
   "source": [
    "# Adicionar itens na lista\n",
    "\n",
    "x = [5, 7, 2, 1, 3, 8, 6, 9, 0, 10]\n",
    "\n",
    "x.extend([23, 20, 34])"
   ],
   "outputs": [],
   "metadata": {}
  },
  {
   "cell_type": "code",
   "execution_count": 62,
   "source": [
    "print(x)"
   ],
   "outputs": [
    {
     "output_type": "stream",
     "name": "stdout",
     "text": [
      "[5, 7, 2, 1, 3, 8, 6, 9, 0, 10, 23, 20, 34]\n"
     ]
    }
   ],
   "metadata": {}
  },
  {
   "cell_type": "code",
   "execution_count": 63,
   "source": [
    "# Criando uma nova lista a partir de X\n",
    "\n",
    "x = [5, 7, 2, 1, 3, 8, 6, 9, 0, 10]\n",
    "\n",
    "y = x + [45, 21, 87]\n",
    "\n",
    "print(x)\n",
    "print(y)"
   ],
   "outputs": [
    {
     "output_type": "stream",
     "name": "stdout",
     "text": [
      "[5, 7, 2, 1, 3, 8, 6, 9, 0, 10]\n",
      "[5, 7, 2, 1, 3, 8, 6, 9, 0, 10, 45, 21, 87]\n"
     ]
    }
   ],
   "metadata": {}
  },
  {
   "cell_type": "code",
   "execution_count": 66,
   "source": [
    "# Adicionando um único item na lista\n",
    "\n",
    "x = [5, 7, 2, 1, 3, 8, 6, 9, 0, 10]\n",
    "\n",
    "print(x)\n",
    "\n",
    "x.append(25)\n",
    "\n",
    "print(x)\n",
    "\n",
    "print(len(x))"
   ],
   "outputs": [
    {
     "output_type": "stream",
     "name": "stdout",
     "text": [
      "[5, 7, 2, 1, 3, 8, 6, 9, 0, 10]\n",
      "[5, 7, 2, 1, 3, 8, 6, 9, 0, 10, 25]\n",
      "11\n"
     ]
    }
   ],
   "metadata": {}
  },
  {
   "cell_type": "code",
   "execution_count": 127,
   "source": [
    "# Lista\n",
    "\n",
    "lista = [5, 7, 2, 1, 3, 8, 6, 9, 0, 10]\n",
    "\n",
    "print(lista)\n",
    "print(len(lista))\n",
    "\n",
    "# Tupla\n",
    "\n",
    "tupla = (5, 7, 2, 1, 3, 8, 6, 9, 0, 10)\n",
    "\n",
    "print(tupla)\n",
    "print(len(tupla))\n",
    "\n",
    "# Dicionários\n",
    "\n",
    "grades = {\"Joel\": 80, \"Tim\": 95, \"Maria\": 85} \n",
    "print(grades)\n",
    "print(len(grades))\n",
    "\n",
    "# Conjuntos (Sets)\n",
    "\n",
    "conjuntos = {3, 6, 2}\n",
    "\n",
    "print(conjuntos)\n",
    "print(len(conjuntos))\n"
   ],
   "outputs": [
    {
     "output_type": "stream",
     "name": "stdout",
     "text": [
      "[5, 7, 2, 1, 3, 8, 6, 9, 0, 10]\n",
      "10\n",
      "(5, 7, 2, 1, 3, 8, 6, 9, 0, 10)\n",
      "10\n",
      "{'Joel': 80, 'Tim': 95, 'Maria': 85}\n",
      "3\n",
      "{2, 3, 6}\n",
      "3\n"
     ]
    }
   ],
   "metadata": {}
  },
  {
   "cell_type": "code",
   "execution_count": 123,
   "source": [
    "# Dicionários\n",
    "\n",
    "grades = {\"Joel\": 80, \"Tim\": 95, \"Maria\": 85} \n",
    "\n",
    "print(\"Mostra todas as notas....................\",grades)\n",
    "print(\"Mostra a note de Joel....................\",grades[\"Joel\"])\n",
    "print(\"Verificar existência de notas............\",\"Joel\" in grades)\n",
    "print(\"Tamanho do dicionário....................\",len(grades))\n",
    "print(\"Visualizar as chaves do dicionário.......\",grades.keys())\n",
    "print(\"Visualizar os valores do dicionário......\",grades.values())\n",
    "print(\"Visualizar os itens do dicionário........\",grades.items())\n",
    "print(\"\")\n",
    "\n",
    "# Alterando valor de um dicionário\n",
    "grades[\"Tim\"] = 70\n",
    "\n",
    "# Adicionando um item no dicionário\n",
    "grades[\"Mark\"] = 95\n",
    "\n",
    "# Apagando um item do dicionário\n",
    "del grades[\"Joel\"]\n",
    "\n",
    "print(grades)"
   ],
   "outputs": [
    {
     "output_type": "stream",
     "name": "stdout",
     "text": [
      "Mostra todas as notas.................... {'Joel': 80, 'Tim': 95, 'Maria': 85}\n",
      "Mostra a note de Joel.................... 80\n",
      "Verificar existência de notas............ True\n",
      "Tamanho do dicionário.................... 3\n",
      "Visualizar as chaves do dicionário....... dict_keys(['Joel', 'Tim', 'Maria'])\n",
      "Visualizar os valores do dicionário...... dict_values([80, 95, 85])\n",
      "Visualizar os itens do dicionário........ dict_items([('Joel', 80), ('Tim', 95), ('Maria', 85)])\n",
      "\n",
      "{'Tim': 70, 'Maria': 85, 'Mark': 95}\n"
     ]
    }
   ],
   "metadata": {}
  },
  {
   "cell_type": "code",
   "execution_count": 126,
   "source": [
    "# Contadores\n",
    "\n",
    "from collections import Counter\n",
    "c = Counter([0, 1, 2, 0])\n",
    "\n",
    "print (c)"
   ],
   "outputs": [
    {
     "output_type": "stream",
     "name": "stdout",
     "text": [
      "Counter({0: 2, 1: 1, 2: 1})\n"
     ]
    }
   ],
   "metadata": {}
  },
  {
   "cell_type": "code",
   "execution_count": 21,
   "source": [
    "# PESQUISA COM PALAVRAS\n",
    "\n",
    "import time\n",
    "\n",
    "a_pesquisar = input(\"Qual o nome que queres pesquisar? \")\n",
    "\n",
    "#Pesquisa em uma lista\n",
    "ini_lista = time.time()\n",
    "lista = [\"Homem de Ferro\", \"Capitão América\", \"Luke Cage\", \"Mulher-Aranha\", \"Homem-Aranha\", \"Wolverine\", \"Sentinela\", \"Ronin\", \"Doutor Estranho\", \"Punho de Ferro\", \"Harpia\", \"Miss Marvel\", \"Jessica Jones\", \"Coisa\", \"Demolidor\", \"Raio Negro\", \"Pantera Negra\", \"Senhor Fantástico\", \"Namor\", \"Fera\"]\n",
    "a_pesquisar in lista\n",
    "fim_lista = time.time()\n",
    "\n",
    "#Pesquisa em uma tupla\n",
    "ini_tupla = time.time()\n",
    "tupla = (\"Homem de Ferro\", \"Capitão América\", \"Luke Cage\", \"Mulher-Aranha\", \"Homem-Aranha\", \"Wolverine\", \"Sentinela\", \"Ronin\", \"Doutor Estranho\", \"Punho de Ferro\", \"Harpia\", \"Miss Marvel\", \"Jessica Jones\", \"Coisa\", \"Demolidor\", \"Raio Negro\", \"Pantera Negra\", \"Senhor Fantástico\", \"Namor\", \"Fera\")\n",
    "a_pesquisar in tupla\n",
    "fim_tupla = time.time()\n",
    "\n",
    "# Pesquisa em um Dicionário\n",
    "ini_dic = time.time()\n",
    "dic = {'Homem de Ferro': 0, 'Capitão América':1,'Luke Cage':2, 'Mulher-Aranha':3, 'Homem-Aranha': 4, 'Wolverine': 5, 'Sentinela':6, 'Ronin':7, 'Doutor Estranho':8, 'Punho de Ferro': 9, 'Harpia':10, 'Miss Marvel':11, 'Jessica Jones':12, 'Coisa':13, 'Demolidor':14,'Raio Negro':15, 'Pantera Negra':16, 'Senhor Fantástico':17, 'Namor':18}\n",
    "a_pesquisar in dic\n",
    "fim_dic = time.time()\n",
    "\n",
    "# Pesquisa em um Conjunto\n",
    "ini_sets = time.time()\n",
    "conjuntos = {\"Homem de Ferro\", \"Capitão América\", \"Luke Cage\", \"Mulher-Aranha\", \"Homem-Aranha\", \"Wolverine\", \"Sentinela\", \"Ronin\", \"Doutor Estranho\", \"Punho de Ferro\", \"Harpia\", \"Miss Marvel\", \"Jessica Jones\", \"Coisa\", \"Demolidor\", \"Raio Negro\", \"Pantera Negra\", \"Senhor Fantástico\", \"Namor\", \"Fera\"}\n",
    "a_pesquisar in conjuntos\n",
    "fim_sets = time.time()\n",
    "\n",
    "print(\"\")\n",
    "#print(a_pesquisar in lista)\n",
    "#print(a_pesquisar in tupla)\n",
    "#print(a_pesquisar in dic)\n",
    "print(a_pesquisar in conjuntos)\n",
    "#print(\"\")\n",
    "#print(\"Tempo de pesquisa em Lista............\", fim_lista-ini_lista)\n",
    "#print(\"Tempo de pesquisa em Tupla............\", fim_tupla-ini_tupla)\n",
    "#print(\"Tempo de pesquisa em Dicionário.......\", fim_dic-ini_dic)\n",
    "#print(\"Tempo de pesquisa em Conjunto.........\", fim_sets-ini_sets)\n",
    "#print(lista)\n",
    "#print(tupla)\n",
    "#print(dic)\n",
    "#print(conjuntos)\n",
    "\n",
    "\n",
    "resultado = {\"Conjunto\": fim_sets-ini_sets, \"Tupla\": fim_tupla-ini_tupla,\"Dicionário\": fim_dic-ini_dic, \"Lista\": fim_lista-ini_lista}\n",
    "print(\"\")\n",
    "\n",
    "for i in sorted(resultado, key = resultado.get):\n",
    "    print(i, \" > \", resultado[i])\n"
   ],
   "outputs": [
    {
     "output_type": "stream",
     "name": "stdout",
     "text": [
      "Qual o nome que queres pesquisar? Homem-aranha\n",
      "\n",
      "False\n",
      "\n",
      "Conjunto  >  0.00021696090698242188\n",
      "Tupla  >  0.0002181529998779297\n",
      "Dicionário  >  0.0002529621124267578\n",
      "Lista  >  0.0004889965057373047\n"
     ]
    }
   ],
   "metadata": {}
  },
  {
   "cell_type": "code",
   "execution_count": 11,
   "source": [
    "# PESQUISA COM NúMEROS\n",
    "\n",
    "import time\n",
    "\n",
    "a_pesquisar = int(input(\"Qual o número que queres pesquisar? \"))\n",
    "\n",
    "#Pesquisa em uma lista\n",
    "ini_lista = time.time()\n",
    "lista = [4, 6, 2, 0, 54, 91, 3, 98, 22, 41, 30, 42, 99, 73, 0, 32, 11, 19, 201, 43, 17, 63]\n",
    "a_pesquisar in lista\n",
    "fim_lista = time.time()\n",
    "\n",
    "#Pesquisa em uma tupla\n",
    "ini_tupla = time.time()\n",
    "tupla = (4, 6, 2, 0, 54, 91, 3, 98, 22, 41, 30, 42, 99, 73, 0, 32, 11, 19, 201, 43, 17, 63)\n",
    "a_pesquisar in tupla\n",
    "fim_tupla = time.time()\n",
    "\n",
    "# Pesquisa em um Dicionário\n",
    "ini_dic = time.time()\n",
    "dic = {4: 1, 6: 2, 2: 3, 0: 4, 54: 5, 91: 6, 3: 7, 98: 8, 22: 9, 41: 10, 30: 11, 42: 12, 99: 13, 14: 73, 15: 0, 16: 32, 17: 11, 18: 19, 19: 201, 20: 43, 21: 17, 22: 63}\n",
    "a_pesquisar in dic\n",
    "fim_dic = time.time()\n",
    "\n",
    "# Pesquisa em um Conjunto\n",
    "ini_sets = time.time()\n",
    "conjuntos = {4, 6, 2, 0, 54, 91, 3, 98, 22, 41, 30, 42, 99, 73, 0, 32, 11, 19, 201, 43, 17, 63}\n",
    "a_pesquisar in conjuntos\n",
    "fim_sets = time.time()\n",
    "\n",
    "print(\"\")\n",
    "print(a_pesquisar in lista)\n",
    "print(a_pesquisar in tupla)\n",
    "print(a_pesquisar in dic)\n",
    "print(a_pesquisar in conjuntos)\n",
    "print(\"\")\n",
    "print(\"Tempo de pesquisa em Lista............\", fim_lista-ini_lista)\n",
    "print(\"Tempo de pesquisa em Tupla............\", fim_tupla-ini_tupla)\n",
    "print(\"Tempo de pesquisa em Dicionario.......\", fim_dic-ini_dic)\n",
    "print(\"Tempo de pesquisa em Conjunto.........\", fim_sets-ini_sets)\n",
    "\n",
    "resultado = {\"Conjunto\": fim_sets-ini_sets, \"Tupla\": fim_tupla-ini_tupla,\"Dicionário\": fim_dic-ini_dic, \"Lista\": fim_lista-ini_lista}\n",
    "print(\"\")\n",
    "\n",
    "for i in sorted(resultado, key = resultado.get):\n",
    "    print(i, resultado[i])"
   ],
   "outputs": [
    {
     "output_type": "stream",
     "name": "stdout",
     "text": [
      "Qual o número que queres pesquisar? Luk\n"
     ]
    },
    {
     "output_type": "error",
     "ename": "ValueError",
     "evalue": "invalid literal for int() with base 10: 'Luk'",
     "traceback": [
      "\u001b[0;31m---------------------------------------------------------------------------\u001b[0m",
      "\u001b[0;31mValueError\u001b[0m                                Traceback (most recent call last)",
      "\u001b[0;32m<ipython-input-11-2cd4b7dbcc00>\u001b[0m in \u001b[0;36m<module>\u001b[0;34m\u001b[0m\n\u001b[1;32m      3\u001b[0m \u001b[0;32mimport\u001b[0m \u001b[0mtime\u001b[0m\u001b[0;34m\u001b[0m\u001b[0;34m\u001b[0m\u001b[0m\n\u001b[1;32m      4\u001b[0m \u001b[0;34m\u001b[0m\u001b[0m\n\u001b[0;32m----> 5\u001b[0;31m \u001b[0ma_pesquisar\u001b[0m \u001b[0;34m=\u001b[0m \u001b[0mint\u001b[0m\u001b[0;34m(\u001b[0m\u001b[0minput\u001b[0m\u001b[0;34m(\u001b[0m\u001b[0;34m\"Qual o número que queres pesquisar? \"\u001b[0m\u001b[0;34m)\u001b[0m\u001b[0;34m)\u001b[0m\u001b[0;34m\u001b[0m\u001b[0;34m\u001b[0m\u001b[0m\n\u001b[0m\u001b[1;32m      6\u001b[0m \u001b[0;34m\u001b[0m\u001b[0m\n\u001b[1;32m      7\u001b[0m \u001b[0;31m#Pesquisa em uma lista\u001b[0m\u001b[0;34m\u001b[0m\u001b[0;34m\u001b[0m\u001b[0;34m\u001b[0m\u001b[0m\n",
      "\u001b[0;31mValueError\u001b[0m: invalid literal for int() with base 10: 'Luk'"
     ]
    }
   ],
   "metadata": {}
  },
  {
   "cell_type": "code",
   "execution_count": 341,
   "source": [
    "# TEMPO PAR ORDENAR\n",
    "\n",
    "import time\n",
    "\n",
    "#a_pesquisar = int(input(\"Qual o número que queres pesquisar? \"))\n",
    "\n",
    "#Pesquisa em uma lista\n",
    "ini_lista = time.time()\n",
    "lista = sorted([4, 6, 2, 0, 54, 91, 3, 98, 22, 41, 30, 42, 99, 73, 0, 32, 11, 19, 201, 43, 17, 63])\n",
    "fim_lista = time.time()\n",
    "\n",
    "#Pesquisa em uma tupla\n",
    "ini_tupla = time.time()\n",
    "tupla = sorted((4, 6, 2, 0, 54, 91, 3, 98, 22, 41, 30, 42, 99, 73, 0, 32, 11, 19, 201, 43, 17, 63))\n",
    "fim_tupla = time.time()\n",
    "\n",
    "# Pesquisa em um Dicionário\n",
    "ini_dic = time.time()\n",
    "dic = {4: 1, 6: 2, 2: 3, 0: 4, 54: 5, 91: 6, 3: 7, 98: 8, 22: 9, 41: 10, 30: 11, 42: 12, 99: 13, 14: 73, 15: 0, 16: 32, 17: 11, 18: 19, 19: 201, 20: 43, 21: 17, 22: 63}\n",
    "fim_dic = time.time()\n",
    "\n",
    "# Pesquisa em um Conjunto\n",
    "ini_sets = time.time()\n",
    "conjuntos = {4, 6, 2, 0, 54, 91, 3, 98, 22, 41, 30, 42, 99, 73, 0, 32, 11, 19, 201, 43, 17, 63}\n",
    "fim_sets = time.time()\n",
    "\n",
    "print(\"Tempo de pesquisa em Lista............\", fim_lista-ini_lista)\n",
    "print(\"Tempo de pesquisa em Tupla............\", fim_tupla-ini_tupla)\n",
    "print(\"Tempo de pesquisa em Dicionario.......\", fim_dic-ini_dic)\n",
    "print(\"Tempo de pesquisa em Conjunto.........\", fim_sets-ini_sets)\n",
    "print(\"\")\n",
    "print(lista)\n",
    "print(tupla)\n",
    "print(dic)\n",
    "print(conjuntos)\n",
    "print(\"\")\n",
    "resultado = {\"Conjunto\": fim_sets-ini_sets, \"Tupla\": fim_tupla-ini_tupla,\"Dicionário\": fim_dic-ini_dic, \"Lista\": fim_lista-ini_lista}\n",
    "print(\"\")\n",
    "\n",
    "for i in sorted(resultado, key = resultado.get):\n",
    "    print(i, resultado[i])\n",
    "print(\"\")\n",
    "print(resultado)\n",
    "print(resultado.values[0])\n",
    "print(resultado[-1])\n",
    "\n"
   ],
   "outputs": [
    {
     "output_type": "stream",
     "name": "stdout",
     "text": [
      "Tempo de pesquisa em Lista............ 0.00016999244689941406\n",
      "Tempo de pesquisa em Tupla............ 0.00015425682067871094\n",
      "Tempo de pesquisa em Dicionario....... 0.00019931793212890625\n",
      "Tempo de pesquisa em Conjunto......... 0.00015211105346679688\n",
      "\n",
      "[0, 0, 2, 3, 4, 6, 11, 17, 19, 22, 30, 32, 41, 42, 43, 54, 63, 73, 91, 98, 99, 201]\n",
      "[0, 0, 2, 3, 4, 6, 11, 17, 19, 22, 30, 32, 41, 42, 43, 54, 63, 73, 91, 98, 99, 201]\n",
      "{4: 1, 6: 2, 2: 3, 0: 4, 54: 5, 91: 6, 3: 7, 98: 8, 22: 63, 41: 10, 30: 11, 42: 12, 99: 13, 14: 73, 15: 0, 16: 32, 17: 11, 18: 19, 19: 201, 20: 43, 21: 17}\n",
      "{0, 2, 3, 4, 6, 11, 17, 19, 22, 30, 32, 41, 42, 43, 54, 63, 73, 201, 91, 98, 99}\n",
      "\n",
      "\n",
      "Conjunto 0.00015211105346679688\n",
      "Tupla 0.00015425682067871094\n",
      "Lista 0.00016999244689941406\n",
      "Dicionário 0.00019931793212890625\n",
      "\n",
      "{'Conjunto': 0.00015211105346679688, 'Tupla': 0.00015425682067871094, 'Dicionário': 0.00019931793212890625, 'Lista': 0.00016999244689941406}\n"
     ]
    },
    {
     "output_type": "error",
     "ename": "TypeError",
     "evalue": "'builtin_function_or_method' object is not subscriptable",
     "traceback": [
      "\u001b[0;31m---------------------------------------------------------------------------\u001b[0m",
      "\u001b[0;31mTypeError\u001b[0m                                 Traceback (most recent call last)",
      "\u001b[0;32m<ipython-input-341-a0bf753a4e91>\u001b[0m in \u001b[0;36m<module>\u001b[0;34m\u001b[0m\n\u001b[1;32m     42\u001b[0m \u001b[0mprint\u001b[0m\u001b[0;34m(\u001b[0m\u001b[0;34m\"\"\u001b[0m\u001b[0;34m)\u001b[0m\u001b[0;34m\u001b[0m\u001b[0;34m\u001b[0m\u001b[0m\n\u001b[1;32m     43\u001b[0m \u001b[0mprint\u001b[0m\u001b[0;34m(\u001b[0m\u001b[0mresultado\u001b[0m\u001b[0;34m)\u001b[0m\u001b[0;34m\u001b[0m\u001b[0;34m\u001b[0m\u001b[0m\n\u001b[0;32m---> 44\u001b[0;31m \u001b[0mprint\u001b[0m\u001b[0;34m(\u001b[0m\u001b[0mresultado\u001b[0m\u001b[0;34m.\u001b[0m\u001b[0mvalues\u001b[0m\u001b[0;34m[\u001b[0m\u001b[0;36m0\u001b[0m\u001b[0;34m]\u001b[0m\u001b[0;34m)\u001b[0m\u001b[0;34m\u001b[0m\u001b[0;34m\u001b[0m\u001b[0m\n\u001b[0m\u001b[1;32m     45\u001b[0m \u001b[0mprint\u001b[0m\u001b[0;34m(\u001b[0m\u001b[0mresultado\u001b[0m\u001b[0;34m[\u001b[0m\u001b[0;34m-\u001b[0m\u001b[0;36m1\u001b[0m\u001b[0;34m]\u001b[0m\u001b[0;34m)\u001b[0m\u001b[0;34m\u001b[0m\u001b[0;34m\u001b[0m\u001b[0m\n\u001b[1;32m     46\u001b[0m \u001b[0;34m\u001b[0m\u001b[0m\n",
      "\u001b[0;31mTypeError\u001b[0m: 'builtin_function_or_method' object is not subscriptable"
     ]
    }
   ],
   "metadata": {}
  },
  {
   "cell_type": "code",
   "execution_count": 182,
   "source": [
    "# Conjuntos (Sets) - É para ser mais rápido do que uma lista\n",
    "# Verificando tempo de execução\n",
    "# Calcular o tempo de pesquisa com Lista, Dicionário, Tupla e Conjuntos\n",
    "# No final mostrar em ordem de mais rápido para mais lento\n",
    "\n",
    "import time\n",
    "\n",
    "# Com números\n",
    "ini_lista1 = time.time()\n",
    "lista1 = [3, 6, 2, 6, 2, 7, 8, 10, 32, 0, 1, 9]\n",
    "91 in lista1\n",
    "fim_lista1 = time.time()\n",
    "\n",
    "ini_sets1 = time.time()\n",
    "conjuntos1 = {3, 6, 2, 6, 2, 7, 8, 10, 32, 0, 1, 9}\n",
    "91 in conjuntos1\n",
    "fim_sets1 = time.time()\n",
    "\n",
    "print(\"Tempo de pesquisa em Lista: \", fim_lista1-ini_lista1)\n",
    "print(\"Tempo de pesquisa em Conjunto: \", fim_sets1-ini_sets1)\n",
    "\n",
    "\n",
    "\n",
    "# Com palavras\n",
    "ini_lista2 = time.time()\n",
    "lista2 = [\"Pedro, André, Tomé, Filipe, Mateus, Bartolomeu, Tiago Maior, Tiago Menor, Simão, Judas Tadeu, Zebedeu, Judas Iscariotes\"]\n",
    "\"Simão\" in lista2\n",
    "fim_lista2 = time.time()\n",
    "\n",
    "ini_sets2 = time.time()\n",
    "conjuntos2 = {\"Pedro, André, Tomé, Filipe, Mateus, Bartolomeu, Tiago Maior, Tiago Menor, Simão, Judas Tadeu, Zebedeu, Judas Iscariotes\"}\n",
    "\"Simão\" in conjuntos2\n",
    "fim_sets2 = time.time()\n",
    "\n",
    "print(\"Tempo de pesquisa em Lista: \", fim_lista2-ini_lista2)\n",
    "print(\"Tempo de pesquisa em Conjunto: \", fim_sets2-ini_sets2)\n",
    "\n"
   ],
   "outputs": [
    {
     "output_type": "stream",
     "name": "stdout",
     "text": [
      "Tempo de pesquisa em Lista:  0.00010395050048828125\n",
      "Tempo de pesquisa em Conjunto:  8.893013000488281e-05\n",
      "Tempo de pesquisa em Lista:  8.487701416015625e-05\n",
      "Tempo de pesquisa em Conjunto:  7.390975952148438e-05\n"
     ]
    }
   ],
   "metadata": {}
  },
  {
   "cell_type": "code",
   "execution_count": 161,
   "source": [
    "# Conjuntos (Sets)\n",
    "\n",
    "conjunto = {3, 6, 2, 6, 2, 7, 8, 10, 32, 0, 1}\n",
    "\n",
    "print(\"Mostra todas as notas.........................\",conjunto)\n",
    "print(\"Adiciona um item no conjunto..................\",conjunto.add(5))\n",
    "print(\"Tamanho do dicionário.........................\",len(conjunto))\n",
    "print(\"Pesquisa se o número 5 pertence ao conjunto...\",5 in conjuntos)\n",
    "\n"
   ],
   "outputs": [
    {
     "output_type": "stream",
     "name": "stdout",
     "text": [
      "Mostra todas as notas.................... {32, 0, 2, 3, 1, 6, 7, 8, 10}\n",
      "Adiciona um item no conjunto.................... None\n",
      "Tamanho do dicionário.................... 10\n",
      "Pesquisa se o número 5 pertence ao conjunto... False\n"
     ]
    }
   ],
   "metadata": {}
  },
  {
   "cell_type": "code",
   "execution_count": 189,
   "source": [
    "# IF\n",
    "if 1 > 2:\n",
    "    message = \"if only 1 were greater than two...\"\n",
    "elif 1 > 3:\n",
    "    message = \"elif stands for 'else if'\"\n",
    "else:\n",
    "    message = \"when all else fails use else (if you want to)\"\n",
    "print(message)\n",
    "print(\"\")\n",
    "\n",
    "# ******************************************************************************************\n",
    "# WHILE\n",
    "x = 0\n",
    "while x < 10:\n",
    "    print(f\"{x} is less than 10\")\n",
    "    x += 1\n",
    "\n",
    "print(\"\")   \n",
    "\n",
    "# ******************************************************************************************\n",
    "# FOR\n",
    "# range(10) is the numbers 0, 1, ..., 9\n",
    "for y in range(10):\n",
    "    print(f\"{y} is less than 10\")\n",
    "\n",
    "print(\"\")\n",
    "for z in range(10):\n",
    "    if z == 3:\n",
    "        continue  # go immediately to the next iteration\n",
    "    if z == 5:\n",
    "        break     # quit the loop entirely\n",
    "    print(z)\n",
    "    \n",
    "# ******************************************************************************************\n",
    "# SORT\n",
    "\n",
    "x = [4, 1, 2, 3]\n",
    "\n",
    "# Crescente\n",
    "print(sorted(x))\n",
    "\n",
    "# Decrescente\n",
    "print(sorted(x, reverse=True))"
   ],
   "outputs": [
    {
     "output_type": "stream",
     "name": "stdout",
     "text": [
      "when all else fails use else (if you want to)\n",
      "\n",
      "0 is less than 10\n",
      "1 is less than 10\n",
      "2 is less than 10\n",
      "3 is less than 10\n",
      "4 is less than 10\n",
      "5 is less than 10\n",
      "6 is less than 10\n",
      "7 is less than 10\n",
      "8 is less than 10\n",
      "9 is less than 10\n",
      "\n",
      "0 is less than 10\n",
      "1 is less than 10\n",
      "2 is less than 10\n",
      "3 is less than 10\n",
      "4 is less than 10\n",
      "5 is less than 10\n",
      "6 is less than 10\n",
      "7 is less than 10\n",
      "8 is less than 10\n",
      "9 is less than 10\n",
      "0\n",
      "1\n",
      "2\n",
      "4\n"
     ]
    }
   ],
   "metadata": {}
  },
  {
   "cell_type": "code",
   "execution_count": 295,
   "source": [
    "import random\n",
    "random.seed(10)  # this ensures we get the same results every time\n",
    "\n",
    "four_uniform_randoms = [random.random() for _ in range(4)]\n",
    "\n",
    "print(four_uniform_randoms)\n"
   ],
   "outputs": [
    {
     "output_type": "stream",
     "name": "stdout",
     "text": [
      "[0.5714025946899135, 0.4288890546751146, 0.5780913011344704, 0.20609823213950174]\n"
     ]
    }
   ],
   "metadata": {}
  },
  {
   "cell_type": "code",
   "execution_count": 291,
   "source": [
    "\n"
   ],
   "outputs": [
    {
     "output_type": "stream",
     "name": "stdout",
     "text": [
      "<__main__.CountingClicker object at 0x7f8232960d30>\n"
     ]
    }
   ],
   "metadata": {}
  },
  {
   "cell_type": "code",
   "execution_count": null,
   "source": [],
   "outputs": [],
   "metadata": {}
  }
 ],
 "metadata": {
  "kernelspec": {
   "name": "python3",
   "display_name": "Python 3.8.8 64-bit ('base': conda)"
  },
  "language_info": {
   "codemirror_mode": {
    "name": "ipython",
    "version": 3
   },
   "file_extension": ".py",
   "mimetype": "text/x-python",
   "name": "python",
   "nbconvert_exporter": "python",
   "pygments_lexer": "ipython3",
   "version": "3.8.8"
  },
  "interpreter": {
   "hash": "e136d491873b9aa3a305c92c96657ffa74c495ec7cf48910f62f65f70b89b4d8"
  }
 },
 "nbformat": 4,
 "nbformat_minor": 5
}